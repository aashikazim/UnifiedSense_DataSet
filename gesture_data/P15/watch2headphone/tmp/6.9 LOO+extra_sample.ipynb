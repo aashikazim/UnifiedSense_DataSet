{
 "cells": [
  {
   "cell_type": "code",
   "execution_count": 1,
   "id": "73cf309f",
   "metadata": {},
   "outputs": [],
   "source": [
    "from tsai.all import *\n",
    "import numpy as np\n",
    "from sklearn import preprocessing\n",
    "from sklearn.metrics import auc, confusion_matrix, accuracy_score, precision_score, recall_score, f1_score\n",
    "from sklearn.model_selection import train_test_split\n",
    "from sklearn.preprocessing import MinMaxScaler\n",
    "from sklearn.metrics import confusion_matrix\n",
    "from sklearn.metrics import classification_report\n",
    "import itertools\n",
    "import matplotlib.pyplot as plt\n",
    "import matplotlib\n",
    "from sklearn.pipeline import make_pipeline\n",
    "import joblib"
   ]
  },
  {
   "cell_type": "code",
   "execution_count": 2,
   "id": "a666aeb6",
   "metadata": {},
   "outputs": [],
   "source": [
    "def _model(X_train, X_test, y_train, y_test, epoch):\n",
    "    X, y, splits = combine_split_data([X_train, X_test], [y_train.ravel(), y_test.ravel()])\n",
    "    tfms  = [None, [Categorize()]]\n",
    "    dsets = TSDatasets(X, y, tfms=tfms, splits=splits)\n",
    "    \n",
    "    ###fit\n",
    "    dls   = TSDataLoaders.from_dsets(dsets.train, dsets.valid, bs=64, batch_tfms=TSStandardize(by_var=True))\n",
    "    model = TST(dls.vars, dls.c, dls.len, dropout=0.4, fc_dropout=0.9)\n",
    "    learn = Learner(dls, model, loss_func=LabelSmoothingCrossEntropyFlat(), \n",
    "                    metrics=accuracy,  cbs=ShowGraphCallback2())\n",
    "    learn.fit_one_cycle(epoch, 1e-4)\n",
    "    \n",
    "    \n",
    "    \n",
    "    acc, f1 = calculate_acc_f1(learn, X_test, y_test)\n",
    "    return learn, acc, f1\n",
    "\n",
    "\n",
    "def calculate_acc_f1(learn, X_test, y_test):\n",
    "    probas, target, preds = learn.get_X_preds(X_test, y_test.ravel(), with_decoded = True)\n",
    "    k = torch.argmax(probas, dim = 1)\n",
    "    acc = accuracy_score(y_test.ravel(), k.tolist())\n",
    "    f1 = f1_score(y_test.ravel(), k.tolist(), average='weighted')\n",
    "    return acc, f1"
   ]
  },
  {
   "cell_type": "code",
   "execution_count": 3,
   "id": "7cbef2c1",
   "metadata": {},
   "outputs": [
    {
     "name": "stdout",
     "output_type": "stream",
     "text": [
      "(1709, 1)\n"
     ]
    },
    {
     "data": {
      "text/html": [
       "\n",
       "<style>\n",
       "    /* Turns off some styling */\n",
       "    progress {\n",
       "        /* gets rid of default border in Firefox and Opera. */\n",
       "        border: none;\n",
       "        /* Needs to be in here for Safari polyfill so background images work as expected. */\n",
       "        background-size: auto;\n",
       "    }\n",
       "    .progress-bar-interrupted, .progress-bar-interrupted::-webkit-progress-bar {\n",
       "        background: #F44336;\n",
       "    }\n",
       "</style>\n"
      ],
      "text/plain": [
       "<IPython.core.display.HTML object>"
      ]
     },
     "metadata": {},
     "output_type": "display_data"
    },
    {
     "data": {
      "text/html": [
       "<table border=\"1\" class=\"dataframe\">\n",
       "  <thead>\n",
       "    <tr style=\"text-align: left;\">\n",
       "      <th>epoch</th>\n",
       "      <th>train_loss</th>\n",
       "      <th>valid_loss</th>\n",
       "      <th>accuracy</th>\n",
       "      <th>time</th>\n",
       "    </tr>\n",
       "  </thead>\n",
       "  <tbody>\n",
       "    <tr>\n",
       "      <td>0</td>\n",
       "      <td>2.087289</td>\n",
       "      <td>1.966076</td>\n",
       "      <td>0.325351</td>\n",
       "      <td>06:14</td>\n",
       "    </tr>\n",
       "    <tr>\n",
       "      <td>1</td>\n",
       "      <td>1.673464</td>\n",
       "      <td>1.547929</td>\n",
       "      <td>0.604722</td>\n",
       "      <td>06:16</td>\n",
       "    </tr>\n",
       "    <tr>\n",
       "      <td>2</td>\n",
       "      <td>1.428415</td>\n",
       "      <td>1.264637</td>\n",
       "      <td>0.757497</td>\n",
       "      <td>06:19</td>\n",
       "    </tr>\n",
       "    <tr>\n",
       "      <td>3</td>\n",
       "      <td>1.302827</td>\n",
       "      <td>1.181296</td>\n",
       "      <td>0.771447</td>\n",
       "      <td>06:19</td>\n",
       "    </tr>\n",
       "    <tr>\n",
       "      <td>4</td>\n",
       "      <td>1.188601</td>\n",
       "      <td>1.154229</td>\n",
       "      <td>0.787701</td>\n",
       "      <td>06:18</td>\n",
       "    </tr>\n",
       "    <tr>\n",
       "      <td>5</td>\n",
       "      <td>1.132223</td>\n",
       "      <td>1.168008</td>\n",
       "      <td>0.788824</td>\n",
       "      <td>06:33</td>\n",
       "    </tr>\n",
       "    <tr>\n",
       "      <td>6</td>\n",
       "      <td>1.073321</td>\n",
       "      <td>1.108345</td>\n",
       "      <td>0.824832</td>\n",
       "      <td>06:20</td>\n",
       "    </tr>\n",
       "    <tr>\n",
       "      <td>7</td>\n",
       "      <td>1.054377</td>\n",
       "      <td>1.147895</td>\n",
       "      <td>0.808255</td>\n",
       "      <td>06:14</td>\n",
       "    </tr>\n",
       "    <tr>\n",
       "      <td>8</td>\n",
       "      <td>1.030498</td>\n",
       "      <td>1.167467</td>\n",
       "      <td>0.805735</td>\n",
       "      <td>06:16</td>\n",
       "    </tr>\n",
       "    <tr>\n",
       "      <td>9</td>\n",
       "      <td>1.007986</td>\n",
       "      <td>1.139440</td>\n",
       "      <td>0.819661</td>\n",
       "      <td>06:23</td>\n",
       "    </tr>\n",
       "    <tr>\n",
       "      <td>10</td>\n",
       "      <td>0.986623</td>\n",
       "      <td>1.163510</td>\n",
       "      <td>0.818335</td>\n",
       "      <td>06:13</td>\n",
       "    </tr>\n",
       "    <tr>\n",
       "      <td>11</td>\n",
       "      <td>0.979097</td>\n",
       "      <td>1.147294</td>\n",
       "      <td>0.825728</td>\n",
       "      <td>06:14</td>\n",
       "    </tr>\n",
       "    <tr>\n",
       "      <td>12</td>\n",
       "      <td>0.953185</td>\n",
       "      <td>1.147455</td>\n",
       "      <td>0.822742</td>\n",
       "      <td>06:16</td>\n",
       "    </tr>\n",
       "    <tr>\n",
       "      <td>13</td>\n",
       "      <td>0.936378</td>\n",
       "      <td>1.143012</td>\n",
       "      <td>0.828057</td>\n",
       "      <td>06:14</td>\n",
       "    </tr>\n",
       "    <tr>\n",
       "      <td>14</td>\n",
       "      <td>0.936802</td>\n",
       "      <td>1.155810</td>\n",
       "      <td>0.825632</td>\n",
       "      <td>06:17</td>\n",
       "    </tr>\n",
       "    <tr>\n",
       "      <td>15</td>\n",
       "      <td>0.922877</td>\n",
       "      <td>1.143051</td>\n",
       "      <td>0.826050</td>\n",
       "      <td>06:16</td>\n",
       "    </tr>\n",
       "    <tr>\n",
       "      <td>16</td>\n",
       "      <td>0.920773</td>\n",
       "      <td>1.151033</td>\n",
       "      <td>0.826886</td>\n",
       "      <td>06:16</td>\n",
       "    </tr>\n",
       "    <tr>\n",
       "      <td>17</td>\n",
       "      <td>0.912882</td>\n",
       "      <td>1.146302</td>\n",
       "      <td>0.828928</td>\n",
       "      <td>06:16</td>\n",
       "    </tr>\n",
       "    <tr>\n",
       "      <td>18</td>\n",
       "      <td>0.917724</td>\n",
       "      <td>1.147229</td>\n",
       "      <td>0.828475</td>\n",
       "      <td>06:14</td>\n",
       "    </tr>\n",
       "    <tr>\n",
       "      <td>19</td>\n",
       "      <td>0.906676</td>\n",
       "      <td>1.138448</td>\n",
       "      <td>0.831580</td>\n",
       "      <td>06:17</td>\n",
       "    </tr>\n",
       "  </tbody>\n",
       "</table>"
      ],
      "text/plain": [
       "<IPython.core.display.HTML object>"
      ]
     },
     "metadata": {},
     "output_type": "display_data"
    },
    {
     "data": {
      "image/png": "[encoded data removed]",
      "text/plain": [
       "<Figure size 432x288 with 1 Axes>"
      ]
     },
     "metadata": {},
     "output_type": "display_data"
    },
    {
     "data": {
      "image/png": "[encoded data removed]",
      "text/plain": [
       "<Figure size 1440x288 with 3 Axes>"
      ]
     },
     "metadata": {
      "needs_background": "light"
     },
     "output_type": "display_data"
    },
    {
     "data": {
      "text/html": [
       "\n",
       "<style>\n",
       "    /* Turns off some styling */\n",
       "    progress {\n",
       "        /* gets rid of default border in Firefox and Opera. */\n",
       "        border: none;\n",
       "        /* Needs to be in here for Safari polyfill so background images work as expected. */\n",
       "        background-size: auto;\n",
       "    }\n",
       "    .progress-bar-interrupted, .progress-bar-interrupted::-webkit-progress-bar {\n",
       "        background: #F44336;\n",
       "    }\n",
       "</style>\n"
      ],
      "text/plain": [
       "<IPython.core.display.HTML object>"
      ]
     },
     "metadata": {},
     "output_type": "display_data"
    },
    {
     "data": {
      "text/html": [],
      "text/plain": [
       "<IPython.core.display.HTML object>"
      ]
     },
     "metadata": {},
     "output_type": "display_data"
    },
    {
     "name": "stdout",
     "output_type": "stream",
     "text": [
      "Accuracy for participant 9 is:  0.831579701663661  and f1:  0.8308192376017002\n",
      "Leave one out avg. accuracy is:  0.09239774462929568  F1 is:  0.09231324862241114\n",
      "\n",
      "\n",
      "\n",
      "[[0.831579701663661]]\n",
      "[[0.8308192376017002]]\n"
     ]
    }
   ],
   "source": [
    "base_path = \"UnifiedSense/np_data\"\n",
    "folders = [\"/ring2glass/\", \"/ring2headphone/\", \"/ring2watch/\", \"/watch2glass/\", \"/watch2headphone/\"]\n",
    "N = 9\n",
    "epoch = 20\n",
    "total_acc = 0\n",
    "total_f1 = 0\n",
    "final_record_acc = []\n",
    "final_record_f1 = []\n",
    "max_accuracy = 0\n",
    "for k in range(N-1, N):\n",
    "    record_acc = []\n",
    "    record_f1 = []\n",
    "    test_data = np.load(\"data_dump/\"+\"LOO_ALL_TEST_DATA\"+str(k+1)+\".npy\", mmap_mode='c')\n",
    "    test_label = np.load(\"data_dump/\"+\"LOO_ALL_TEST_LABEL\"+str(k+1)+\".npy\", mmap_mode='c')\n",
    "    train_data = np.load(\"data_dump/\"+\"LOO_ALL_TRAIN_DATA\"+str(k+1)+\".npy\", mmap_mode='c')\n",
    "    train_label = np.load(\"data_dump/\"+\"LOO_ALL_TRAIN_LABEL\"+str(k+1)+\".npy\", mmap_mode='c')\n",
    "    \n",
    "    for m in [0.02]:\n",
    "        big_test, small_test, big_label, small_label = train_test_split(test_data, test_label, test_size=m, random_state=42, shuffle=True)\n",
    "        \n",
    "        print(small_label.shape)\n",
    "        X_f = np.vstack((train_data, small_test))\n",
    "        y_f = np.vstack((train_label, small_label))\n",
    "        m_model, acc, f1 = _model(X_f, big_test, y_f, big_label, epoch)\n",
    "        record_acc.append(acc)\n",
    "        record_f1.append(f1)\n",
    "    \n",
    "    final_record_acc.append(record_acc)\n",
    "    final_record_f1.append(record_f1)\n",
    "    acc = sum(record_acc) / len(record_acc)\n",
    "    f1 = sum(record_f1) / len(record_f1)\n",
    "    print(\"Accuracy for participant 9 is: \", acc, \" and f1: \", f1)\n",
    "    if max_accuracy > acc:\n",
    "        max_accuracy = acc\n",
    "    total_acc += acc\n",
    "    total_f1 += f1\n",
    "        \n",
    "print(\"Leave one out avg. accuracy is: \", total_acc/N, \" F1 is: \", total_f1/N)\n",
    "print(\"\\n\\n\")\n",
    "print(final_record_acc)\n",
    "print(final_record_f1)"
   ]
  },
  {
   "cell_type": "code",
   "execution_count": 4,
   "id": "30be67a1",
   "metadata": {},
   "outputs": [
    {
     "name": "stdout",
     "output_type": "stream",
     "text": [
      "Accuracy for participant 9 is:  0.831579701663661  and f1:  0.8308192376017002\n",
      "Leave one out avg. accuracy is:  0.18479548925859135  F1 is:  0.18462649724482227\n",
      "\n",
      "\n",
      "\n",
      "[[0.831579701663661]]\n",
      "[[0.8308192376017002]]\n"
     ]
    }
   ],
   "source": [
    "acc = sum(record_acc) / len(record_acc)\n",
    "f1 = sum(record_f1) / len(record_f1)\n",
    "print(\"Accuracy for participant 9 is: \", acc, \" and f1: \", f1)\n",
    "if max_accuracy > acc:\n",
    "    max_accuracy = acc\n",
    "total_acc += acc\n",
    "total_f1 += f1\n",
    "print(\"Leave one out avg. accuracy is: \", total_acc/N, \" F1 is: \", total_f1/N)\n",
    "print(\"\\n\\n\")\n",
    "print(final_record_acc)\n",
    "print(final_record_f1)"
   ]
  },
  {
   "cell_type": "code",
   "execution_count": 5,
   "id": "98eaa4ef",
   "metadata": {},
   "outputs": [
    {
     "data": {
      "text/html": [
       "\n",
       "                <audio  controls=\"controls\" autoplay=\"autoplay\">\n",
       "                    <source src=\"data:audio/wav;base64,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\" type=\"audio/wav\" />\n",
       "                    Your browser does not support the audio element.\n",
       "                </audio>\n",
       "              "
      ],
      "text/plain": [
       "<IPython.lib.display.Audio object>"
      ]
     },
     "metadata": {},
     "output_type": "display_data"
    }
   ],
   "source": [
    "beep()\n",
    "m_model.export(\"models/tst_loo_6_9_1.pkl\")"
   ]
  },
  {
   "cell_type": "code",
   "execution_count": null,
   "id": "73ea9ead",
   "metadata": {},
   "outputs": [],
   "source": []
  }
 ],
 "metadata": {
  "kernelspec": {
   "display_name": "Python 3.8",
   "language": "python",
   "name": "python-3.8"
  },
  "language_info": {
   "codemirror_mode": {
    "name": "ipython",
    "version": 3
   },
   "file_extension": ".py",
   "mimetype": "text/x-python",
   "name": "python",
   "nbconvert_exporter": "python",
   "pygments_lexer": "ipython3",
   "version": "3.8.8"
  }
 },
 "nbformat": 4,
 "nbformat_minor": 5
}
