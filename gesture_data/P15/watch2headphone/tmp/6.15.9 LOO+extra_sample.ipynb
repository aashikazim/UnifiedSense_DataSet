{
 "cells": [
  {
   "cell_type": "code",
   "execution_count": 1,
   "id": "32ce4bd7",
   "metadata": {},
   "outputs": [],
   "source": [
    "from tsai.all import *\n",
    "import numpy as np\n",
    "from sklearn import preprocessing\n",
    "from sklearn.metrics import auc, confusion_matrix, accuracy_score, precision_score, recall_score, f1_score\n",
    "from sklearn.model_selection import train_test_split\n",
    "from sklearn.preprocessing import MinMaxScaler\n",
    "from sklearn.metrics import confusion_matrix\n",
    "from sklearn.metrics import classification_report\n",
    "import itertools\n",
    "import matplotlib.pyplot as plt\n",
    "import matplotlib\n",
    "from sklearn.pipeline import make_pipeline\n",
    "import joblib"
   ]
  },
  {
   "cell_type": "code",
   "execution_count": 2,
   "id": "9c31f459",
   "metadata": {},
   "outputs": [],
   "source": [
    "def _model(X_train, X_test, y_train, y_test, epoch):\n",
    "    X, y, splits = combine_split_data([X_train, X_test], [y_train.ravel(), y_test.ravel()])\n",
    "    tfms  = [None, [Categorize()]]\n",
    "    dsets = TSDatasets(X, y, tfms=tfms, splits=splits)\n",
    "    \n",
    "    ###fit\n",
    "    dls   = TSDataLoaders.from_dsets(dsets.train, dsets.valid, bs=64, batch_tfms=TSStandardize(by_var=True))\n",
    "    model = TST(dls.vars, dls.c, dls.len, dropout=0.4, fc_dropout=0.9)\n",
    "    learn = Learner(dls, model, loss_func=LabelSmoothingCrossEntropyFlat(), \n",
    "                    metrics=accuracy,  cbs=ShowGraphCallback2())\n",
    "    learn.fit_one_cycle(epoch, 1e-4)\n",
    "    \n",
    "    \n",
    "    \n",
    "    acc, f1 = calculate_acc_f1(learn, X_test, y_test)\n",
    "    return learn, acc, f1\n",
    "\n",
    "\n",
    "def calculate_acc_f1(learn, X_test, y_test):\n",
    "    probas, target, preds = learn.get_X_preds(X_test, y_test.ravel(), with_decoded = True)\n",
    "    k = torch.argmax(probas, dim = 1)\n",
    "    acc = accuracy_score(y_test.ravel(), k.tolist())\n",
    "    f1 = f1_score(y_test.ravel(), k.tolist(), average='weighted')\n",
    "    return acc, f1"
   ]
  },
  {
   "cell_type": "code",
   "execution_count": null,
   "id": "36ecef91",
   "metadata": {},
   "outputs": [
    {
     "name": "stdout",
     "output_type": "stream",
     "text": [
      "(27456, 1)\n"
     ]
    },
    {
     "data": {
      "text/html": [
       "\n",
       "<style>\n",
       "    /* Turns off some styling */\n",
       "    progress {\n",
       "        /* gets rid of default border in Firefox and Opera. */\n",
       "        border: none;\n",
       "        /* Needs to be in here for Safari polyfill so background images work as expected. */\n",
       "        background-size: auto;\n",
       "    }\n",
       "    .progress-bar-interrupted, .progress-bar-interrupted::-webkit-progress-bar {\n",
       "        background: #F44336;\n",
       "    }\n",
       "</style>\n"
      ],
      "text/plain": [
       "<IPython.core.display.HTML object>"
      ]
     },
     "metadata": {},
     "output_type": "display_data"
    },
    {
     "data": {
      "text/html": [
       "\n",
       "    <div>\n",
       "      <progress value='1' class='' max='20' style='width:300px; height:20px; vertical-align: middle;'></progress>\n",
       "      5.00% [1/20 06:45<2:08:18]\n",
       "    </div>\n",
       "    \n",
       "<table border=\"1\" class=\"dataframe\">\n",
       "  <thead>\n",
       "    <tr style=\"text-align: left;\">\n",
       "      <th>epoch</th>\n",
       "      <th>train_loss</th>\n",
       "      <th>valid_loss</th>\n",
       "      <th>accuracy</th>\n",
       "      <th>time</th>\n",
       "    </tr>\n",
       "  </thead>\n",
       "  <tbody>\n",
       "    <tr>\n",
       "      <td>0</td>\n",
       "      <td>2.093670</td>\n",
       "      <td>1.962253</td>\n",
       "      <td>0.373845</td>\n",
       "      <td>06:44</td>\n",
       "    </tr>\n",
       "  </tbody>\n",
       "</table><p>\n",
       "\n",
       "    <div>\n",
       "      <progress value='10087' class='' max='19309' style='width:300px; height:20px; vertical-align: middle;'></progress>\n",
       "      52.24% [10087/19309 03:27<03:10 1.8640]\n",
       "    </div>\n",
       "    "
      ],
      "text/plain": [
       "<IPython.core.display.HTML object>"
      ]
     },
     "metadata": {},
     "output_type": "display_data"
    },
    {
     "data": {
      "image/png": "[encoded data removed]",
      "text/plain": [
       "<Figure size 432x288 with 1 Axes>"
      ]
     },
     "metadata": {},
     "output_type": "display_data"
    }
   ],
   "source": [
    "base_path = \"UnifiedSense/np_data\"\n",
    "folders = [\"/ring2glass/\", \"/ring2headphone/\", \"/ring2watch/\", \"/watch2glass/\", \"/watch2headphone/\"]\n",
    "N = 12\n",
    "epoch = 20\n",
    "total_acc = 0\n",
    "total_f1 = 0\n",
    "final_record_acc = []\n",
    "final_record_f1 = []\n",
    "max_accuracy = 0\n",
    "for k in range(N-1, N):\n",
    "    record_acc = []\n",
    "    record_f1 = []\n",
    "    test_data = np.load(\"data_dump/\"+\"LOO_ALL_TEST_DATA\"+str(k+1)+\".npy\", mmap_mode='c')\n",
    "    test_label = np.load(\"data_dump/\"+\"LOO_ALL_TEST_LABEL\"+str(k+1)+\".npy\", mmap_mode='c')\n",
    "    train_data = np.load(\"data_dump/\"+\"LOO_ALL_TRAIN_DATA\"+str(k+1)+\".npy\", mmap_mode='c')\n",
    "    train_label = np.load(\"data_dump/\"+\"LOO_ALL_TRAIN_LABEL\"+str(k+1)+\".npy\", mmap_mode='c')\n",
    "    \n",
    "#     [0.001, 0.002, 0.008, 0.02,  0.04, 0.07, 0.1, 0.2]\n",
    "    for m in [0.3]:\n",
    "        big_test, small_test, big_label, small_label = train_test_split(test_data, test_label, test_size=m, random_state=42, shuffle=True)\n",
    "        \n",
    "        print(small_label.shape)\n",
    "        X_f = np.vstack((train_data, small_test))\n",
    "        y_f = np.vstack((train_label, small_label))\n",
    "        m_model, acc, f1  = _model(X_f, big_test, y_f, big_label, epoch)\n",
    "        record_acc.append(acc)\n",
    "        record_f1.append(f1)\n",
    "    \n",
    "    final_record_acc.append(record_acc)\n",
    "    final_record_f1.append(record_f1)\n",
    "    acc = sum(record_acc) / len(record_acc)\n",
    "    f1 = sum(record_f1) / len(record_f1)\n",
    "    print(\"Accuracy for participant \", N ,\"is: \", acc, \" and f1: \", f1)\n",
    "    if max_accuracy > acc:\n",
    "        max_accuracy = acc\n",
    "    total_acc += acc\n",
    "    total_f1 += f1\n",
    "print(\"Leave one out avg. accuracy is: \", total_acc/N, \" F1 is: \", total_f1/N)       \n",
    "print(\"\\n\\n\")\n",
    "print(final_record_acc)\n",
    "print(final_record_f1)"
   ]
  },
  {
   "cell_type": "code",
   "execution_count": null,
   "id": "8f5be691",
   "metadata": {},
   "outputs": [],
   "source": [
    "\n",
    "acc = sum(record_acc) / len(record_acc)\n",
    "f1 = sum(record_f1) / len(record_f1)\n",
    "print(\"Accuracy for participant \", N ,\" is: \", acc, \" and f1: \", f1)\n",
    "if max_accuracy > acc:\n",
    "    max_accuracy = acc\n",
    "total_acc += acc\n",
    "total_f1 += f1\n",
    "print(\"Leave one out avg. accuracy is: \", total_acc/N, \" F1 is: \", total_f1/N)\n",
    "print(\"\\n\\n\")\n",
    "print(final_record_acc)\n",
    "print(final_record_f1)"
   ]
  },
  {
   "cell_type": "code",
   "execution_count": null,
   "id": "06b723a1",
   "metadata": {},
   "outputs": [],
   "source": [
    "m_model.export(\"models/tst_loo6_\"+str(N)+\"_9.pkl\")"
   ]
  },
  {
   "cell_type": "code",
   "execution_count": null,
   "id": "1afdc819",
   "metadata": {},
   "outputs": [],
   "source": [
    "beep()"
   ]
  },
  {
   "cell_type": "code",
   "execution_count": null,
   "id": "2995d0c9",
   "metadata": {},
   "outputs": [],
   "source": []
  }
 ],
 "metadata": {
  "kernelspec": {
   "display_name": "Python 3.8",
   "language": "python",
   "name": "python-3.8"
  },
  "language_info": {
   "codemirror_mode": {
    "name": "ipython",
    "version": 3
   },
   "file_extension": ".py",
   "mimetype": "text/x-python",
   "name": "python",
   "nbconvert_exporter": "python",
   "pygments_lexer": "ipython3",
   "version": "3.8.8"
  }
 },
 "nbformat": 4,
 "nbformat_minor": 5
}
